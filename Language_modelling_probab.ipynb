{
 "cells": [
  {
   "cell_type": "markdown",
   "id": "de469935-9f76-4b66-9d44-6c4446a30e31",
   "metadata": {},
   "source": [
    "## language modelling  using probability "
   ]
  },
  {
   "cell_type": "code",
   "execution_count": 1,
   "id": "2448396a-c0ac-4d6a-8b39-470a44359cef",
   "metadata": {},
   "outputs": [],
   "source": [
    "import os\n",
    "import email\n",
    "import pandas as pd \n",
    "import numpy as np\n",
    "import gc\n",
    "from os import path\n",
    "import tensorflow as tf\n",
    "from datetime import datetime\n",
    "import pickle\n",
    "from IPython.display import display\n",
    "import matplotlib.pyplot as plt\n",
    "from wordcloud import WordCloud, STOPWORDS\n",
    "from collections import Counter, defaultdict\n",
    "from nltk.tokenize import sent_tokenize\n",
    "from nltk.translate.bleu_score import sentence_bleu\n",
    "from sklearn.utils import shuffle\n",
    "import nltk\n",
    "import random\n",
    "from statistics import mean, median, stdev\n",
    "from multiprocessing import Pool\n",
    "from nltk.corpus import reuters\n",
    "\n"
   ]
  },
  {
   "cell_type": "code",
   "execution_count": 2,
   "id": "31a2210e-1ae8-4852-86e8-0bac7f3a32de",
   "metadata": {},
   "outputs": [],
   "source": [
    "df=pd.read_csv('emails.csv')"
   ]
  },
  {
   "cell_type": "code",
   "execution_count": 3,
   "id": "53af3d53-206f-49c3-8a09-4316ec1e963e",
   "metadata": {},
   "outputs": [
    {
     "data": {
      "text/html": [
       "<div>\n",
       "<style scoped>\n",
       "    .dataframe tbody tr th:only-of-type {\n",
       "        vertical-align: middle;\n",
       "    }\n",
       "\n",
       "    .dataframe tbody tr th {\n",
       "        vertical-align: top;\n",
       "    }\n",
       "\n",
       "    .dataframe thead th {\n",
       "        text-align: right;\n",
       "    }\n",
       "</style>\n",
       "<table border=\"1\" class=\"dataframe\">\n",
       "  <thead>\n",
       "    <tr style=\"text-align: right;\">\n",
       "      <th></th>\n",
       "      <th>text</th>\n",
       "      <th>spam</th>\n",
       "    </tr>\n",
       "  </thead>\n",
       "  <tbody>\n",
       "    <tr>\n",
       "      <th>0</th>\n",
       "      <td>Subject: naturally irresistible your corporate...</td>\n",
       "      <td>1</td>\n",
       "    </tr>\n",
       "    <tr>\n",
       "      <th>1</th>\n",
       "      <td>Subject: the stock trading gunslinger  fanny i...</td>\n",
       "      <td>1</td>\n",
       "    </tr>\n",
       "    <tr>\n",
       "      <th>2</th>\n",
       "      <td>Subject: unbelievable new homes made easy  im ...</td>\n",
       "      <td>1</td>\n",
       "    </tr>\n",
       "    <tr>\n",
       "      <th>3</th>\n",
       "      <td>Subject: 4 color printing special  request add...</td>\n",
       "      <td>1</td>\n",
       "    </tr>\n",
       "    <tr>\n",
       "      <th>4</th>\n",
       "      <td>Subject: do not have money , get software cds ...</td>\n",
       "      <td>1</td>\n",
       "    </tr>\n",
       "  </tbody>\n",
       "</table>\n",
       "</div>"
      ],
      "text/plain": [
       "                                                text  spam\n",
       "0  Subject: naturally irresistible your corporate...     1\n",
       "1  Subject: the stock trading gunslinger  fanny i...     1\n",
       "2  Subject: unbelievable new homes made easy  im ...     1\n",
       "3  Subject: 4 color printing special  request add...     1\n",
       "4  Subject: do not have money , get software cds ...     1"
      ]
     },
     "execution_count": 3,
     "metadata": {},
     "output_type": "execute_result"
    }
   ],
   "source": [
    "df.head()"
   ]
  },
  {
   "cell_type": "code",
   "execution_count": 4,
   "id": "93c0d4e7-23be-4f55-9291-387f2023ca6a",
   "metadata": {},
   "outputs": [
    {
     "data": {
      "text/plain": [
       "(5728, 2)"
      ]
     },
     "execution_count": 4,
     "metadata": {},
     "output_type": "execute_result"
    }
   ],
   "source": [
    "df.shape"
   ]
  },
  {
   "cell_type": "code",
   "execution_count": 5,
   "id": "d702e9d7-5334-4b5d-a20c-ddf4edb41335",
   "metadata": {},
   "outputs": [
    {
     "data": {
      "text/plain": [
       "\"Subject: naturally irresistible your corporate identity  lt is really hard to recollect a company : the  market is full of suqgestions and the information isoverwhelminq ; but a good  catchy logo , stylish statlonery and outstanding website  will make the task much easier .  we do not promise that havinq ordered a iogo your  company will automaticaily become a world ieader : it isguite ciear that  without good products , effective business organization and practicable aim it  will be hotat nowadays market ; but we do promise that your marketing efforts  will become much more effective . here is the list of clear  benefits : creativeness : hand - made , original logos , specially done  to reflect your distinctive company image . convenience : logo and stationery  are provided in all formats ; easy - to - use content management system letsyou  change your website content and even its structure . promptness : you  will see logo drafts within three business days . affordability : your  marketing break - through shouldn ' t make gaps in your budget . 100 % satisfaction  guaranteed : we provide unlimited amount of changes with no extra fees for you to  be surethat you will love the result of this collaboration . have a look at our  portfolio _ _ _ _ _ _ _ _ _ _ _ _ _ _ _ _ _ _ _ _ _ _ _ _ _ _ _ _ _ _ _ _ _ _ _ _ _ _ _ _ _ _ _ _ _ _ _ _ _ _ _ _ not interested . . . _ _ _ _ _ _ _ _ _ _ _ _ _ _ _ _ _ _ _ _ _ _ _ _ _ _ _ _ _ _ _ _ _ _ _ _ _ _ _ _ _ _ _ _ _ _ _ _ _ _ _ _\""
      ]
     },
     "execution_count": 5,
     "metadata": {},
     "output_type": "execute_result"
    }
   ],
   "source": [
    "df['text'][0]"
   ]
  },
  {
   "cell_type": "code",
   "execution_count": 6,
   "id": "3216f576-449d-443f-8900-bfb4407bb498",
   "metadata": {},
   "outputs": [],
   "source": [
    "df['text_list']=df.text.apply(lambda x: x.split())"
   ]
  },
  {
   "cell_type": "code",
   "execution_count": 7,
   "id": "f8b03567-d15e-4cd9-bc8b-6a313521ac25",
   "metadata": {},
   "outputs": [
    {
     "data": {
      "text/html": [
       "<div>\n",
       "<style scoped>\n",
       "    .dataframe tbody tr th:only-of-type {\n",
       "        vertical-align: middle;\n",
       "    }\n",
       "\n",
       "    .dataframe tbody tr th {\n",
       "        vertical-align: top;\n",
       "    }\n",
       "\n",
       "    .dataframe thead th {\n",
       "        text-align: right;\n",
       "    }\n",
       "</style>\n",
       "<table border=\"1\" class=\"dataframe\">\n",
       "  <thead>\n",
       "    <tr style=\"text-align: right;\">\n",
       "      <th></th>\n",
       "      <th>text</th>\n",
       "      <th>spam</th>\n",
       "      <th>text_list</th>\n",
       "    </tr>\n",
       "  </thead>\n",
       "  <tbody>\n",
       "    <tr>\n",
       "      <th>0</th>\n",
       "      <td>Subject: naturally irresistible your corporate...</td>\n",
       "      <td>1</td>\n",
       "      <td>[Subject:, naturally, irresistible, your, corp...</td>\n",
       "    </tr>\n",
       "    <tr>\n",
       "      <th>1</th>\n",
       "      <td>Subject: the stock trading gunslinger  fanny i...</td>\n",
       "      <td>1</td>\n",
       "      <td>[Subject:, the, stock, trading, gunslinger, fa...</td>\n",
       "    </tr>\n",
       "    <tr>\n",
       "      <th>2</th>\n",
       "      <td>Subject: unbelievable new homes made easy  im ...</td>\n",
       "      <td>1</td>\n",
       "      <td>[Subject:, unbelievable, new, homes, made, eas...</td>\n",
       "    </tr>\n",
       "    <tr>\n",
       "      <th>3</th>\n",
       "      <td>Subject: 4 color printing special  request add...</td>\n",
       "      <td>1</td>\n",
       "      <td>[Subject:, 4, color, printing, special, reques...</td>\n",
       "    </tr>\n",
       "    <tr>\n",
       "      <th>4</th>\n",
       "      <td>Subject: do not have money , get software cds ...</td>\n",
       "      <td>1</td>\n",
       "      <td>[Subject:, do, not, have, money, ,, get, softw...</td>\n",
       "    </tr>\n",
       "  </tbody>\n",
       "</table>\n",
       "</div>"
      ],
      "text/plain": [
       "                                                text  spam  \\\n",
       "0  Subject: naturally irresistible your corporate...     1   \n",
       "1  Subject: the stock trading gunslinger  fanny i...     1   \n",
       "2  Subject: unbelievable new homes made easy  im ...     1   \n",
       "3  Subject: 4 color printing special  request add...     1   \n",
       "4  Subject: do not have money , get software cds ...     1   \n",
       "\n",
       "                                           text_list  \n",
       "0  [Subject:, naturally, irresistible, your, corp...  \n",
       "1  [Subject:, the, stock, trading, gunslinger, fa...  \n",
       "2  [Subject:, unbelievable, new, homes, made, eas...  \n",
       "3  [Subject:, 4, color, printing, special, reques...  \n",
       "4  [Subject:, do, not, have, money, ,, get, softw...  "
      ]
     },
     "execution_count": 7,
     "metadata": {},
     "output_type": "execute_result"
    }
   ],
   "source": [
    "df.head()"
   ]
  },
  {
   "cell_type": "code",
   "execution_count": 8,
   "id": "3eee1315-5eea-4f86-b00c-e6d5745e1a39",
   "metadata": {},
   "outputs": [],
   "source": [
    "df=df[['text','text_list','spam']]"
   ]
  },
  {
   "cell_type": "code",
   "execution_count": 9,
   "id": "829a9e50-43b5-4b97-9191-b0bc35a396d1",
   "metadata": {},
   "outputs": [
    {
     "data": {
      "text/html": [
       "<div>\n",
       "<style scoped>\n",
       "    .dataframe tbody tr th:only-of-type {\n",
       "        vertical-align: middle;\n",
       "    }\n",
       "\n",
       "    .dataframe tbody tr th {\n",
       "        vertical-align: top;\n",
       "    }\n",
       "\n",
       "    .dataframe thead th {\n",
       "        text-align: right;\n",
       "    }\n",
       "</style>\n",
       "<table border=\"1\" class=\"dataframe\">\n",
       "  <thead>\n",
       "    <tr style=\"text-align: right;\">\n",
       "      <th></th>\n",
       "      <th>text</th>\n",
       "      <th>text_list</th>\n",
       "      <th>spam</th>\n",
       "    </tr>\n",
       "  </thead>\n",
       "  <tbody>\n",
       "    <tr>\n",
       "      <th>0</th>\n",
       "      <td>Subject: naturally irresistible your corporate...</td>\n",
       "      <td>[Subject:, naturally, irresistible, your, corp...</td>\n",
       "      <td>1</td>\n",
       "    </tr>\n",
       "    <tr>\n",
       "      <th>1</th>\n",
       "      <td>Subject: the stock trading gunslinger  fanny i...</td>\n",
       "      <td>[Subject:, the, stock, trading, gunslinger, fa...</td>\n",
       "      <td>1</td>\n",
       "    </tr>\n",
       "    <tr>\n",
       "      <th>2</th>\n",
       "      <td>Subject: unbelievable new homes made easy  im ...</td>\n",
       "      <td>[Subject:, unbelievable, new, homes, made, eas...</td>\n",
       "      <td>1</td>\n",
       "    </tr>\n",
       "    <tr>\n",
       "      <th>3</th>\n",
       "      <td>Subject: 4 color printing special  request add...</td>\n",
       "      <td>[Subject:, 4, color, printing, special, reques...</td>\n",
       "      <td>1</td>\n",
       "    </tr>\n",
       "    <tr>\n",
       "      <th>4</th>\n",
       "      <td>Subject: do not have money , get software cds ...</td>\n",
       "      <td>[Subject:, do, not, have, money, ,, get, softw...</td>\n",
       "      <td>1</td>\n",
       "    </tr>\n",
       "  </tbody>\n",
       "</table>\n",
       "</div>"
      ],
      "text/plain": [
       "                                                text  \\\n",
       "0  Subject: naturally irresistible your corporate...   \n",
       "1  Subject: the stock trading gunslinger  fanny i...   \n",
       "2  Subject: unbelievable new homes made easy  im ...   \n",
       "3  Subject: 4 color printing special  request add...   \n",
       "4  Subject: do not have money , get software cds ...   \n",
       "\n",
       "                                           text_list  spam  \n",
       "0  [Subject:, naturally, irresistible, your, corp...     1  \n",
       "1  [Subject:, the, stock, trading, gunslinger, fa...     1  \n",
       "2  [Subject:, unbelievable, new, homes, made, eas...     1  \n",
       "3  [Subject:, 4, color, printing, special, reques...     1  \n",
       "4  [Subject:, do, not, have, money, ,, get, softw...     1  "
      ]
     },
     "execution_count": 9,
     "metadata": {},
     "output_type": "execute_result"
    }
   ],
   "source": [
    "df.head()"
   ]
  },
  {
   "cell_type": "code",
   "execution_count": 10,
   "id": "8a104428-5f8c-4019-8dde-e64081e8894e",
   "metadata": {},
   "outputs": [
    {
     "data": {
      "text/html": [
       "<div>\n",
       "<style scoped>\n",
       "    .dataframe tbody tr th:only-of-type {\n",
       "        vertical-align: middle;\n",
       "    }\n",
       "\n",
       "    .dataframe tbody tr th {\n",
       "        vertical-align: top;\n",
       "    }\n",
       "\n",
       "    .dataframe thead th {\n",
       "        text-align: right;\n",
       "    }\n",
       "</style>\n",
       "<table border=\"1\" class=\"dataframe\">\n",
       "  <thead>\n",
       "    <tr style=\"text-align: right;\">\n",
       "      <th></th>\n",
       "      <th>text</th>\n",
       "      <th>text_list</th>\n",
       "      <th>spam</th>\n",
       "    </tr>\n",
       "  </thead>\n",
       "  <tbody>\n",
       "    <tr>\n",
       "      <th>0</th>\n",
       "      <td>Subject: naturally irresistible your corporate...</td>\n",
       "      <td>[Subject:, naturally, irresistible, your, corp...</td>\n",
       "      <td>1</td>\n",
       "    </tr>\n",
       "    <tr>\n",
       "      <th>1</th>\n",
       "      <td>Subject: the stock trading gunslinger  fanny i...</td>\n",
       "      <td>[Subject:, the, stock, trading, gunslinger, fa...</td>\n",
       "      <td>1</td>\n",
       "    </tr>\n",
       "    <tr>\n",
       "      <th>2</th>\n",
       "      <td>Subject: unbelievable new homes made easy  im ...</td>\n",
       "      <td>[Subject:, unbelievable, new, homes, made, eas...</td>\n",
       "      <td>1</td>\n",
       "    </tr>\n",
       "    <tr>\n",
       "      <th>3</th>\n",
       "      <td>Subject: 4 color printing special  request add...</td>\n",
       "      <td>[Subject:, 4, color, printing, special, reques...</td>\n",
       "      <td>1</td>\n",
       "    </tr>\n",
       "    <tr>\n",
       "      <th>4</th>\n",
       "      <td>Subject: do not have money , get software cds ...</td>\n",
       "      <td>[Subject:, do, not, have, money, ,, get, softw...</td>\n",
       "      <td>1</td>\n",
       "    </tr>\n",
       "  </tbody>\n",
       "</table>\n",
       "</div>"
      ],
      "text/plain": [
       "                                                text  \\\n",
       "0  Subject: naturally irresistible your corporate...   \n",
       "1  Subject: the stock trading gunslinger  fanny i...   \n",
       "2  Subject: unbelievable new homes made easy  im ...   \n",
       "3  Subject: 4 color printing special  request add...   \n",
       "4  Subject: do not have money , get software cds ...   \n",
       "\n",
       "                                           text_list  spam  \n",
       "0  [Subject:, naturally, irresistible, your, corp...     1  \n",
       "1  [Subject:, the, stock, trading, gunslinger, fa...     1  \n",
       "2  [Subject:, unbelievable, new, homes, made, eas...     1  \n",
       "3  [Subject:, 4, color, printing, special, reques...     1  \n",
       "4  [Subject:, do, not, have, money, ,, get, softw...     1  "
      ]
     },
     "execution_count": 10,
     "metadata": {},
     "output_type": "execute_result"
    }
   ],
   "source": [
    "### removing the word subject from each row\n",
    "\n",
    "df['text'] = df['text'].str.replace(r'\\bSubject:\\b:?', '', regex=True).str.strip()\n",
    "\n",
    "# Remove the word 'Subject' from each list in 'text_list'\n",
    "#df['text_list'] = df['text_list'].apply(lambda lst: [word for word in lst if word.lower() != 'subject'])\n",
    "\n",
    "\n",
    "df.head()"
   ]
  },
  {
   "cell_type": "code",
   "execution_count": 11,
   "id": "6c6cbdc2-e049-4ecd-8eda-01605724457e",
   "metadata": {},
   "outputs": [
    {
     "data": {
      "image/png": "[encoded data removed]",
      "text/plain": [
       "<Figure size 1000x400 with 1 Axes>"
      ]
     },
     "metadata": {},
     "output_type": "display_data"
    }
   ],
   "source": [
    "## lenth of each emails\n",
    "import matplotlib.pyplot as plt\n",
    "if __name__ == \"__main__\":\n",
    "    # EDA for text length\n",
    "    x = list(df['text'].apply(lambda x: len(x)))\n",
    "    \n",
    "    # Setting the figure size\n",
    "    plt.rcParams[\"figure.figsize\"] = (10, 4)\n",
    "    \n",
    "    # Plotting the histogram\n",
    "    plt.hist(x, range=[1, 12000], bins=20, align='left', color='skyblue', edgecolor='black')\n",
    "    \n",
    "    # Labeling the axes\n",
    "    plt.xlabel(\"Length of text\")\n",
    "    plt.ylabel(\"Frequency\")\n",
    "    \n",
    "    # Display the plot\n",
    "    plt.show()\n"
   ]
  },
  {
   "cell_type": "markdown",
   "id": "3f6192bf-eab1-42aa-9692-3fa8620d4790",
   "metadata": {},
   "source": [
    "* most of the people are write the short emails \\\n",
    "* even very less people are writing a very long email of wrods more than 10000\\"
   ]
  },
  {
   "cell_type": "markdown",
   "id": "6ed91297-48f6-4e56-9696-9229be685123",
   "metadata": {},
   "source": [
    "### world cloud representation "
   ]
  },
  {
   "cell_type": "code",
   "execution_count": 14,
   "id": "af74f283-ada4-49a4-89f6-1588f57e80d3",
   "metadata": {},
   "outputs": [
    {
     "data": {
      "image/png": "[encoded data removed]",
      "text/plain": [
       "<Figure size 800x800 with 1 Axes>"
      ]
     },
     "metadata": {},
     "output_type": "display_data"
    }
   ],
   "source": [
    "from wordcloud import WordCloud, STOPWORDS\n",
    "\n",
    "#'df' is your DataFrame and 'text' is the column with the text data\n",
    "\n",
    "# Create the word cloud\n",
    "wordcloud = WordCloud(\n",
    "    width=800, \n",
    "    height=800,\n",
    "    background_color='white',\n",
    "    stopwords=STOPWORDS,\n",
    "    max_font_size=50,\n",
    "    min_font_size=10\n",
    ").generate(df['text'].to_string())\n",
    "\n",
    "# Plot the WordCloud image\n",
    "plt.figure(figsize=(8, 8), facecolor=None)\n",
    "plt.imshow(wordcloud, interpolation=\"bilinear\")\n",
    "plt.axis(\"off\")\n",
    "plt.tight_layout(pad=0)\n",
    "plt.show()\n"
   ]
  },
  {
   "cell_type": "markdown",
   "id": "f7b908bc-8052-47f4-9b47-60d5b851b8db",
   "metadata": {},
   "source": [
    "### most frequent words"
   ]
  },
  {
   "cell_type": "code",
   "execution_count": 16,
   "id": "c27d782e-6ea9-459c-be6f-fc7ef9da5cf7",
   "metadata": {},
   "outputs": [],
   "source": [
    "# most frequent word\n",
    "\n",
    "def word_count(input_str):\n",
    "    \"\"\"Function that takes a string and counts each word in the string.\"\"\"\n",
    "    counts = {}  # Initialize an empty dictionary to hold word counts\n",
    "    words = input_str.split()  # Split the string into words\n",
    "    \n",
    "    for word in words:\n",
    "        if word in counts:\n",
    "            counts[word] += 1  # Increment count if the word is already in the dictionary\n",
    "        elif len(word) > 2:\n",
    "            counts[word] = 1  # Add the word to the dictionary if its length is greater than 2\n",
    "    \n",
    "    return counts  # Return the dictionary of word counts\n",
    "\n"
   ]
  },
  {
   "cell_type": "code",
   "execution_count": 17,
   "id": "b8b5edb6-1fbf-43a7-8320-0cfc7346b78f",
   "metadata": {
    "scrolled": true
   },
   "outputs": [
    {
     "name": "stdout",
     "output_type": "stream",
     "text": [
      "Subject:: 5728\n",
      "...: 1294\n",
      "vince: 676\n",
      "the: 564\n",
      "for: 539\n",
      "your: 393\n",
      "you: 342\n",
      "and: 290\n",
      "enron: 271\n",
      "dear: 208\n",
      "hello: 198\n",
      "this: 195\n",
      "thanks: 161\n",
      "with: 158\n",
      "from: 155\n",
      "interview: 147\n",
      "meeting: 144\n",
      "new: 143\n",
      "all: 131\n",
      "visit: 127\n",
      "research: 124\n",
      "please: 120\n",
      "are: 115\n",
      "request: 110\n",
      "energy: 107\n",
      "software: 104\n",
      "model: 100\n",
      "2000: 98\n",
      "have: 95\n",
      "conference: 95\n",
      "a...: 94\n",
      "kaminski: 93\n",
      "t...: 89\n",
      "resume: 86\n",
      "get: 84\n",
      "2001: 83\n",
      "risk: 82\n",
      "summer: 81\n",
      ",...: 80\n",
      "save: 78\n",
      "update: 78\n",
      "houston: 76\n",
      "here: 75\n",
      "fyi: 75\n",
      "power: 74\n",
      "how: 72\n",
      "-...: 72\n",
      "presentation: 71\n",
      "business: 70\n",
      "access: 68\n",
      "credit: 67\n",
      "good: 67\n",
      "thank: 67\n",
      "i...: 66\n",
      "money: 63\n",
      "schedule: 56\n",
      "shirley: 56\n",
      "will: 55\n",
      "stinson: 55\n",
      "var: 55\n",
      "f...: 54\n",
      "logo: 54\n",
      "v...: 54\n",
      "information: 52\n",
      "p...: 52\n",
      "m...: 52\n",
      "fo...: 52\n",
      "our: 51\n",
      "th...: 51\n",
      "real: 50\n",
      "mail: 50\n",
      "welcome: 49\n",
      "h...: 49\n",
      "options: 48\n",
      "can: 47\n",
      "london: 47\n",
      "wharton: 46\n",
      "project: 46\n",
      "getting: 45\n",
      "congratulations: 44\n",
      "would: 43\n",
      "y...: 43\n",
      "seminar: 43\n",
      "john: 43\n",
      "year: 42\n",
      "free: 41\n",
      "know: 41\n",
      "s...: 41\n",
      "approval: 41\n",
      "info: 41\n",
      "may: 41\n",
      "want: 40\n",
      "time: 40\n",
      "more: 40\n",
      "fwd: 40\n",
      "book: 40\n",
      "invitation: 39\n",
      "gas: 39\n",
      "telephone: 39\n",
      "online: 38\n"
     ]
    }
   ],
   "source": [
    "if __name__ == \"__main__\":\n",
    "\n",
    "    # Count the most frequent words in the content\n",
    "    most_frequent_words = Counter(word_count(str(df['text'].to_string()))).most_common(100)\n",
    "\n",
    "    # Print the most frequent words\n",
    "    print('\\n'.join(f\"{word}: {count}\" for word, count in most_frequent_words))\n",
    "    \n",
    "    # Clean up\n",
    "    most_frequent_words = None\n",
    "    import gc\n",
    "    gc.collect()\n"
   ]
  },
  {
   "cell_type": "markdown",
   "id": "51792163-d19a-4ce6-a065-e1a7abf32d41",
   "metadata": {},
   "source": [
    "### train_test split"
   ]
  },
  {
   "cell_type": "code",
   "execution_count": 19,
   "id": "833e10be-83fa-4bdf-8d79-1b05ec60e995",
   "metadata": {},
   "outputs": [],
   "source": [
    "# Shuffle the DataFrame\n",
    "shuffle_df = df.sample(frac=1, random_state=42)\n",
    "\n",
    "# Define a size for your train set\n",
    "train_size = int(0.7 * len(df))\n",
    "\n",
    "# Split your dataset\n",
    "train_set = shuffle_df[:train_size]\n",
    "train_set.reset_index(inplace=True, drop=True)\n",
    "\n",
    "test_set = shuffle_df[train_size:]\n",
    "test_set.reset_index(inplace=True, drop=True)\n"
   ]
  },
  {
   "cell_type": "markdown",
   "id": "f422749f-3150-4df4-a790-642631aa43ca",
   "metadata": {},
   "source": [
    "### next word prediction"
   ]
  },
  {
   "cell_type": "code",
   "execution_count": 21,
   "id": "ff047985-2da0-46b9-b4d6-df91bc190613",
   "metadata": {},
   "outputs": [
    {
     "data": {
      "text/html": [
       "<div>\n",
       "<style scoped>\n",
       "    .dataframe tbody tr th:only-of-type {\n",
       "        vertical-align: middle;\n",
       "    }\n",
       "\n",
       "    .dataframe tbody tr th {\n",
       "        vertical-align: top;\n",
       "    }\n",
       "\n",
       "    .dataframe thead th {\n",
       "        text-align: right;\n",
       "    }\n",
       "</style>\n",
       "<table border=\"1\" class=\"dataframe\">\n",
       "  <thead>\n",
       "    <tr style=\"text-align: right;\">\n",
       "      <th></th>\n",
       "      <th>text</th>\n",
       "      <th>text_list</th>\n",
       "      <th>spam</th>\n",
       "    </tr>\n",
       "  </thead>\n",
       "  <tbody>\n",
       "    <tr>\n",
       "      <th>0</th>\n",
       "      <td>Subject: re : energy derivatives conference - ...</td>\n",
       "      <td>[Subject:, re, :, energy, derivatives, confere...</td>\n",
       "      <td>0</td>\n",
       "    </tr>\n",
       "    <tr>\n",
       "      <th>1</th>\n",
       "      <td>Subject: financial maths course , part 2  vinc...</td>\n",
       "      <td>[Subject:, financial, maths, course, ,, part, ...</td>\n",
       "      <td>0</td>\n",
       "    </tr>\n",
       "    <tr>\n",
       "      <th>2</th>\n",
       "      <td>Subject: re : bullet points  please respond to...</td>\n",
       "      <td>[Subject:, re, :, bullet, points, please, resp...</td>\n",
       "      <td>0</td>\n",
       "    </tr>\n",
       "    <tr>\n",
       "      <th>3</th>\n",
       "      <td>Subject: re : enron default swaps  darrell ,  ...</td>\n",
       "      <td>[Subject:, re, :, enron, default, swaps, darre...</td>\n",
       "      <td>0</td>\n",
       "    </tr>\n",
       "    <tr>\n",
       "      <th>4</th>\n",
       "      <td>Subject: re : power question  steve ,  elena c...</td>\n",
       "      <td>[Subject:, re, :, power, question, steve, ,, e...</td>\n",
       "      <td>0</td>\n",
       "    </tr>\n",
       "  </tbody>\n",
       "</table>\n",
       "</div>"
      ],
      "text/plain": [
       "                                                text  \\\n",
       "0  Subject: re : energy derivatives conference - ...   \n",
       "1  Subject: financial maths course , part 2  vinc...   \n",
       "2  Subject: re : bullet points  please respond to...   \n",
       "3  Subject: re : enron default swaps  darrell ,  ...   \n",
       "4  Subject: re : power question  steve ,  elena c...   \n",
       "\n",
       "                                           text_list  spam  \n",
       "0  [Subject:, re, :, energy, derivatives, confere...     0  \n",
       "1  [Subject:, financial, maths, course, ,, part, ...     0  \n",
       "2  [Subject:, re, :, bullet, points, please, resp...     0  \n",
       "3  [Subject:, re, :, enron, default, swaps, darre...     0  \n",
       "4  [Subject:, re, :, power, question, steve, ,, e...     0  "
      ]
     },
     "execution_count": 21,
     "metadata": {},
     "output_type": "execute_result"
    }
   ],
   "source": [
    "df=train_set.copy()\n",
    "df.head()"
   ]
  },
  {
   "cell_type": "code",
   "execution_count": 22,
   "id": "d0724c69-6bb0-4a03-ae4d-ec4498e6a960",
   "metadata": {},
   "outputs": [],
   "source": [
    "corpus=df['text_list'].to_list()"
   ]
  },
  {
   "cell_type": "markdown",
   "id": "7072addc-c9b9-4041-afbe-a2ca97f13477",
   "metadata": {},
   "source": [
    "### creating a bigram model"
   ]
  },
  {
   "cell_type": "code",
   "execution_count": 24,
   "id": "d1acd632-3328-4b80-b041-47d03938e3f6",
   "metadata": {},
   "outputs": [],
   "source": [
    "from collections import defaultdict\n",
    "from nltk import bigrams\n",
    "\n",
    "def build_bigram_model(df):\n",
    "    \"\"\"Create a bigram model from the given DataFrame.\"\"\"\n",
    "    # Create a placeholder for the bigram model\n",
    "    bigram_model = defaultdict(lambda: defaultdict(lambda: 0))\n",
    "\n",
    "    # Iterate through each sentence in the DataFrame's 'content' column\n",
    "    for sentence in df['text']:\n",
    "        # Split the sentence into words\n",
    "        words = sentence.split()\n",
    "\n",
    "        # Count frequency of bigrams\n",
    "        for w1, w2 in bigrams(words, pad_right=True, pad_left=True):\n",
    "            bigram_model[w1][w2] += 1\n",
    "\n",
    "    # Transform counts to probabilities\n",
    "    for w1 in bigram_model:\n",
    "        total_count = float(sum(bigram_model[w1].values()))\n",
    "        for w2 in bigram_model[w1]:\n",
    "            bigram_model[w1][w2] /= total_count\n",
    "\n",
    "    return bigram_model\n"
   ]
  },
  {
   "cell_type": "code",
   "execution_count": 25,
   "id": "b9969b87-f31a-4635-89ab-c478575b0dc3",
   "metadata": {},
   "outputs": [],
   "source": [
    "bigram=build_bigram_model(df)"
   ]
  },
  {
   "cell_type": "code",
   "execution_count": 109,
   "id": "e60aaa54-9277-43ab-b83d-de7ab61a4243",
   "metadata": {},
   "outputs": [],
   "source": [
    "def get_next_word(model, input_string):\n",
    "    \"\"\"Predict the next word based on the input string using the bigram model.\"\"\"\n",
    "    # Split the input string into words\n",
    "    input_words = input_string.split()\n",
    "\n",
    "    # Check if there are enough words in the input to form a bigram\n",
    "    if len(input_words) > 1:\n",
    "        # Get the last two words to form a bigram\n",
    "        last_bigram = tuple(input_words[-2:])\n",
    "        output = dict(model[last_bigram])\n",
    "    else:\n",
    "        # If not enough words, use the first word as the context\n",
    "        output = dict(model.get(input_words[0], {}))\n",
    "\n",
    "    # Sort the output dictionary by frequency and get the most common next word\n",
    "    sorted_output = sorted(output.items(), key=lambda item: item[1], reverse=True)\n",
    "    \n",
    "    # Return the next word or a message if no prediction is available\n",
    "    if sorted_output:\n",
    "        next_word = sorted_output[0][0]\n",
    "        return f\"{input_string} {next_word}\"\n",
    "    else:\n",
    "        return f\"No prediction available for '{input_string}'.\"\n",
    "\n"
   ]
  },
  {
   "cell_type": "code",
   "execution_count": 27,
   "id": "5537b7b9-39b8-40bd-9c39-de285d2a53ad",
   "metadata": {},
   "outputs": [
    {
     "data": {
      "text/plain": [
       "'how to'"
      ]
     },
     "execution_count": 27,
     "metadata": {},
     "output_type": "execute_result"
    }
   ],
   "source": [
    "get_next_word(bigram,'how')"
   ]
  },
  {
   "cell_type": "code",
   "execution_count": 28,
   "id": "7d32dfdb-c2f4-4511-9673-9b158d6fcebc",
   "metadata": {},
   "outputs": [
    {
     "data": {
      "text/plain": [
       "'they are'"
      ]
     },
     "execution_count": 28,
     "metadata": {},
     "output_type": "execute_result"
    }
   ],
   "source": [
    "get_next_word(bigram,'they')"
   ]
  },
  {
   "cell_type": "code",
   "execution_count": 29,
   "id": "7497b51c-513c-4b16-a603-45e7514ec05a",
   "metadata": {},
   "outputs": [
    {
     "data": {
      "text/plain": [
       "'what is'"
      ]
     },
     "execution_count": 29,
     "metadata": {},
     "output_type": "execute_result"
    }
   ],
   "source": [
    "get_next_word(bigram,'what')"
   ]
  },
  {
   "cell_type": "code",
   "execution_count": 30,
   "id": "adbf6172-e5a7-442d-b706-b4c4dba2d410",
   "metadata": {},
   "outputs": [
    {
     "data": {
      "text/plain": [
       "'love to'"
      ]
     },
     "execution_count": 30,
     "metadata": {},
     "output_type": "execute_result"
    }
   ],
   "source": [
    "get_next_word(bigram,'love')"
   ]
  },
  {
   "cell_type": "markdown",
   "id": "a45d8fc7-5837-462f-ba1a-933d10c96682",
   "metadata": {},
   "source": [
    "### creating a trigram model"
   ]
  },
  {
   "cell_type": "code",
   "execution_count": 32,
   "id": "bbe3720d-033e-4e51-a7ca-8c7056ae7f46",
   "metadata": {},
   "outputs": [],
   "source": [
    "from collections import defaultdict\n",
    "from nltk import trigrams\n",
    "\n",
    "def build_model(df):\n",
    "    \"\"\"Create a trigram model from the given DataFrame.\"\"\"\n",
    "    # Create a placeholder for the trigram model\n",
    "    trigram_model = defaultdict(lambda: defaultdict(lambda: 0))\n",
    "\n",
    "    # Iterate through each sentence in the DataFrame's 'content' column\n",
    "    for sentence in df['text']:\n",
    "        # Split the sentence into words\n",
    "        words = sentence.split()\n",
    "\n",
    "        # Count frequency of trigrams\n",
    "        for w1, w2, w3 in trigrams(words, pad_right=True, pad_left=True):\n",
    "            trigram_model[(w1, w2)][w3] += 1\n",
    "\n",
    "    # Transform counts to probabilities\n",
    "    for (w1, w2) in trigram_model:\n",
    "        total_count = float(sum(trigram_model[(w1, w2)].values()))\n",
    "        for w3 in trigram_model[(w1, w2)]:\n",
    "            trigram_model[(w1, w2)][w3] /= total_count\n",
    "\n",
    "    return trigram_model"
   ]
  },
  {
   "cell_type": "code",
   "execution_count": 33,
   "id": "2e8e74a3-06bc-4e9b-9b73-21d728e2cbf1",
   "metadata": {},
   "outputs": [],
   "source": [
    "trigram=build_model(df)"
   ]
  },
  {
   "cell_type": "code",
   "execution_count": 34,
   "id": "14046ddc-b4e9-4287-98e9-944183e25b94",
   "metadata": {},
   "outputs": [
    {
     "data": {
      "text/plain": [
       "'i may have'"
      ]
     },
     "execution_count": 34,
     "metadata": {},
     "output_type": "execute_result"
    }
   ],
   "source": [
    "get_next_word(trigram,'i may')"
   ]
  },
  {
   "cell_type": "code",
   "execution_count": 35,
   "id": "38a5336b-e421-4962-80f8-e4669ead10c4",
   "metadata": {},
   "outputs": [
    {
     "data": {
      "text/plain": [
       "'i should be'"
      ]
     },
     "execution_count": 35,
     "metadata": {},
     "output_type": "execute_result"
    }
   ],
   "source": [
    "get_next_word(trigram,'i should')"
   ]
  },
  {
   "cell_type": "code",
   "execution_count": 36,
   "id": "040754cf-194a-4856-bb6a-a19fa166b51f",
   "metadata": {},
   "outputs": [
    {
     "data": {
      "text/plain": [
       "'you are not'"
      ]
     },
     "execution_count": 36,
     "metadata": {},
     "output_type": "execute_result"
    }
   ],
   "source": [
    "get_next_word(trigram,'you are')"
   ]
  },
  {
   "cell_type": "code",
   "execution_count": 37,
   "id": "cc3d11ca-49eb-4451-8817-305ce35309ff",
   "metadata": {},
   "outputs": [
    {
     "data": {
      "text/plain": [
       "'i love both'"
      ]
     },
     "execution_count": 37,
     "metadata": {},
     "output_type": "execute_result"
    }
   ],
   "source": [
    "get_next_word(trigram,'i love')"
   ]
  },
  {
   "cell_type": "code",
   "execution_count": 38,
   "id": "ed2297be-2665-4f14-b3bf-0a9df167de4f",
   "metadata": {},
   "outputs": [
    {
     "data": {
      "text/plain": [
       "'i love both italian'"
      ]
     },
     "execution_count": 38,
     "metadata": {},
     "output_type": "execute_result"
    }
   ],
   "source": [
    "get_next_word(trigram,'i love both')"
   ]
  },
  {
   "cell_type": "code",
   "execution_count": 39,
   "id": "e5b087ea-3c62-45c5-8314-98ba21a5f386",
   "metadata": {},
   "outputs": [
    {
     "data": {
      "text/plain": [
       "'i love both italian or'"
      ]
     },
     "execution_count": 39,
     "metadata": {},
     "output_type": "execute_result"
    }
   ],
   "source": [
    "get_next_word(trigram,'i love both italian')"
   ]
  },
  {
   "cell_type": "code",
   "execution_count": 40,
   "id": "4beebdb3-c65d-4ffd-ab19-80d74fbb3d74",
   "metadata": {},
   "outputs": [
    {
     "data": {
      "text/plain": [
       "'i love both italian or steak'"
      ]
     },
     "execution_count": 40,
     "metadata": {},
     "output_type": "execute_result"
    }
   ],
   "source": [
    "get_next_word(trigram,'i love both italian or')"
   ]
  },
  {
   "cell_type": "markdown",
   "id": "707f32bc-0474-4328-9173-5c44baa42cb2",
   "metadata": {
    "jp-MarkdownHeadingCollapsed": true
   },
   "source": [
    "### perplexity"
   ]
  },
  {
   "cell_type": "code",
   "execution_count": 54,
   "id": "1c6df096-d313-4dcb-8405-26dc1ec192c0",
   "metadata": {},
   "outputs": [],
   "source": [
    "def perplexity(model, input_sentence, n_gram):\n",
    "    tokenized_sentence = input_sentence.split()\n",
    "    N = len(tokenized_sentence)\n",
    "\n",
    "    if n_gram == 2:  # Bigram\n",
    "        tokenized_sentence.insert(0, None)  # Start of sentence\n",
    "        tokenized_sentence.append(None)      # End of sentence\n",
    "        prob = []\n",
    "        for i in range(len(tokenized_sentence) - 1):\n",
    "            w1, w2 = tokenized_sentence[i], tokenized_sentence[i + 1]\n",
    "            prob_w2_given_w1 = model[w1].get(w2, 0.0001)  # Small epsilon for unknowns\n",
    "            prob.append(prob_w2_given_w1)\n",
    "\n",
    "        perplexity_value = np.exp(-1 / N * sum(np.log(prob)))\n",
    "        return perplexity_value\n",
    "    \n",
    "    elif n_gram == 3:  # Trigram\n",
    "        tokenized_sentence.insert(0, None)  # Start of sentence\n",
    "        tokenized_sentence.insert(0, None)  # Second start for trigram\n",
    "        tokenized_sentence.append(None)      # End of sentence\n",
    "        prob = []\n",
    "        for i in range(len(tokenized_sentence) - 2):\n",
    "            w1, w2, w3 = tokenized_sentence[i], tokenized_sentence[i + 1], tokenized_sentence[i + 2]\n",
    "            prob_w3_given_w1_w2 = model[(w1, w2)].get(w3, 0.0001)  # Small epsilon for unknowns\n",
    "            prob.append(prob_w3_given_w1_w2)\n",
    "\n",
    "        perplexity_value = np.exp(-1 / N * sum(np.log(prob)))\n",
    "        return perplexity_value\n",
    "\n",
    "    else:\n",
    "        raise ValueError(\"n_gram must be either 2 (bigram) or 3 (trigram).\")\n",
    "\n"
   ]
  },
  {
   "cell_type": "code",
   "execution_count": 60,
   "id": "04f6d144-548f-49a4-9820-9c34874dd696",
   "metadata": {},
   "outputs": [
    {
     "data": {
      "text/html": [
       "<div>\n",
       "<style scoped>\n",
       "    .dataframe tbody tr th:only-of-type {\n",
       "        vertical-align: middle;\n",
       "    }\n",
       "\n",
       "    .dataframe tbody tr th {\n",
       "        vertical-align: top;\n",
       "    }\n",
       "\n",
       "    .dataframe thead th {\n",
       "        text-align: right;\n",
       "    }\n",
       "</style>\n",
       "<table border=\"1\" class=\"dataframe\">\n",
       "  <thead>\n",
       "    <tr style=\"text-align: right;\">\n",
       "      <th></th>\n",
       "      <th>text</th>\n",
       "      <th>bi-gram_score</th>\n",
       "      <th>tri-gram_score</th>\n",
       "    </tr>\n",
       "  </thead>\n",
       "  <tbody>\n",
       "    <tr>\n",
       "      <th>1266</th>\n",
       "      <td>Subject: contract update  sheila ,  some minor...</td>\n",
       "      <td>65.935906</td>\n",
       "      <td>10.063119</td>\n",
       "    </tr>\n",
       "    <tr>\n",
       "      <th>1408</th>\n",
       "      <td>Subject: a chance to get new logo now  working...</td>\n",
       "      <td>6.930623</td>\n",
       "      <td>2.580231</td>\n",
       "    </tr>\n",
       "    <tr>\n",
       "      <th>1233</th>\n",
       "      <td>Subject: lng meeting  bjorn :  the lng meeting...</td>\n",
       "      <td>81.551894</td>\n",
       "      <td>80.800690</td>\n",
       "    </tr>\n",
       "    <tr>\n",
       "      <th>230</th>\n",
       "      <td>Subject: vince ,  here is why analytical var d...</td>\n",
       "      <td>239.744417</td>\n",
       "      <td>414.291702</td>\n",
       "    </tr>\n",
       "    <tr>\n",
       "      <th>1558</th>\n",
       "      <td>Subject: term project :  this is the list of p...</td>\n",
       "      <td>58.200115</td>\n",
       "      <td>5.706122</td>\n",
       "    </tr>\n",
       "    <tr>\n",
       "      <th>142</th>\n",
       "      <td>Subject: we owe you lots of money  dear homeow...</td>\n",
       "      <td>45.121105</td>\n",
       "      <td>7.922880</td>\n",
       "    </tr>\n",
       "    <tr>\n",
       "      <th>666</th>\n",
       "      <td>Subject: managing director and vice president ...</td>\n",
       "      <td>996.873854</td>\n",
       "      <td>3875.481264</td>\n",
       "    </tr>\n",
       "    <tr>\n",
       "      <th>634</th>\n",
       "      <td>Subject: need an outstanding logo now ?  worki...</td>\n",
       "      <td>6.672513</td>\n",
       "      <td>2.199094</td>\n",
       "    </tr>\n",
       "    <tr>\n",
       "      <th>816</th>\n",
       "      <td>Subject: stox maven news - letter  * * * watch...</td>\n",
       "      <td>60.381233</td>\n",
       "      <td>5.804200</td>\n",
       "    </tr>\n",
       "    <tr>\n",
       "      <th>1087</th>\n",
       "      <td>Subject: re :  good day ,  everybody will love...</td>\n",
       "      <td>408.873354</td>\n",
       "      <td>1589.685290</td>\n",
       "    </tr>\n",
       "  </tbody>\n",
       "</table>\n",
       "</div>"
      ],
      "text/plain": [
       "                                                   text  bi-gram_score  \\\n",
       "1266  Subject: contract update  sheila ,  some minor...      65.935906   \n",
       "1408  Subject: a chance to get new logo now  working...       6.930623   \n",
       "1233  Subject: lng meeting  bjorn :  the lng meeting...      81.551894   \n",
       "230   Subject: vince ,  here is why analytical var d...     239.744417   \n",
       "1558  Subject: term project :  this is the list of p...      58.200115   \n",
       "142   Subject: we owe you lots of money  dear homeow...      45.121105   \n",
       "666   Subject: managing director and vice president ...     996.873854   \n",
       "634   Subject: need an outstanding logo now ?  worki...       6.672513   \n",
       "816   Subject: stox maven news - letter  * * * watch...      60.381233   \n",
       "1087  Subject: re :  good day ,  everybody will love...     408.873354   \n",
       "\n",
       "      tri-gram_score  \n",
       "1266       10.063119  \n",
       "1408        2.580231  \n",
       "1233       80.800690  \n",
       "230       414.291702  \n",
       "1558        5.706122  \n",
       "142         7.922880  \n",
       "666      3875.481264  \n",
       "634         2.199094  \n",
       "816         5.804200  \n",
       "1087     1589.685290  "
      ]
     },
     "execution_count": 60,
     "metadata": {},
     "output_type": "execute_result"
    }
   ],
   "source": [
    "import pandas as pd\n",
    "\n",
    "# Initialize the dictionary to store perplexity results\n",
    "perplexity_dict = {\n",
    "    'text': [],\n",
    "    'bi-gram_score': [],\n",
    "    'tri-gram_score': []\n",
    "}\n",
    "\n",
    "# Loop through each row in the DataFrame\n",
    "for i in range(len(test_set)):\n",
    "    try:\n",
    "        body = test_set['text'][i]  # Access the text of the i-th entry\n",
    "        # Calculate perplexity for trigram and bigram\n",
    "        tri_gram = perplexity(trigram, body,3)\n",
    "        bi_gram = perplexity(bigram, body,2)\n",
    "\n",
    "        # Append results to the dictionary\n",
    "        perplexity_dict['text'].append(body)\n",
    "        perplexity_dict['bi-gram_score'].append(bi_gram)\n",
    "        perplexity_dict['tri-gram_score'].append(tri_gram)\n",
    "\n",
    "    except Exception as e:\n",
    "        # In case of an error, store the text and the error message\n",
    "        perplexity_dict['text'].append(body)\n",
    "        perplexity_dict['bi-gram_score'].append(str(e))\n",
    "        perplexity_dict['tri-gram_score'].append(str(e))\n",
    "\n",
    "# Create a DataFrame from the perplexity results\n",
    "df2 = pd.DataFrame(perplexity_dict)\n",
    "\n",
    "\n",
    "df2.sample(10)\n"
   ]
  },
  {
   "cell_type": "code",
   "execution_count": 66,
   "id": "ce40b527-f000-4880-b53a-3c1967be3c44",
   "metadata": {},
   "outputs": [
    {
     "name": "stdout",
     "output_type": "stream",
     "text": [
      "text              Subject: a chance to get new logo now  working...\n",
      "bi-gram_score                                              6.930623\n",
      "tri-gram_score                                             2.580231\n",
      "Name: 1408, dtype: object\n"
     ]
    }
   ],
   "source": [
    "print(df2.loc[1408])\n"
   ]
  },
  {
   "cell_type": "markdown",
   "id": "b697cdaa-4a76-45c3-a82e-5ec98b034f92",
   "metadata": {},
   "source": [
    "## smoothening of a model"
   ]
  },
  {
   "cell_type": "markdown",
   "id": "0a797227-3dda-456f-811a-ecaa1a6dc402",
   "metadata": {},
   "source": [
    "### bigram smoothening"
   ]
  },
  {
   "cell_type": "code",
   "execution_count": 81,
   "id": "2771aaed-6e67-41d3-9105-7100bb80d08a",
   "metadata": {},
   "outputs": [],
   "source": [
    "from collections import defaultdict\n",
    "import numpy as np\n",
    "\n",
    "def build_smoothed_bigram_model(df, alpha=1):\n",
    "    # Create a placeholder for the smoothed bigram model\n",
    "    bigram_model = defaultdict(lambda: defaultdict(lambda: alpha))\n",
    "\n",
    "    # Count frequency of co-occurrence\n",
    "    for sentence in df['text']:\n",
    "        words = sentence.split()\n",
    "        for w1, w2 in zip([None] + words, words + [None]):\n",
    "            bigram_model[w1][w2] += 1\n",
    "\n",
    "    # Convert counts to probabilities with smoothing\n",
    "    for w1 in bigram_model:\n",
    "        total_count = float(sum(bigram_model[w1].values()))\n",
    "        for w2 in bigram_model[w1]:\n",
    "            bigram_model[w1][w2] = (bigram_model[w1][w2] + alpha) / (total_count + alpha * len(bigram_model[w1]))\n",
    "\n",
    "    return bigram_model\n",
    "\n"
   ]
  },
  {
   "cell_type": "code",
   "execution_count": 83,
   "id": "a984c306-43d6-4bda-9ed7-a01c35bc9099",
   "metadata": {},
   "outputs": [],
   "source": [
    "bigram=build_smoothed_bigram_model(df)"
   ]
  },
  {
   "cell_type": "code",
   "execution_count": 87,
   "id": "0e798c04-a389-4426-bbc0-022468b816c7",
   "metadata": {},
   "outputs": [
    {
     "data": {
      "text/plain": [
       "'i am'"
      ]
     },
     "execution_count": 87,
     "metadata": {},
     "output_type": "execute_result"
    }
   ],
   "source": [
    "get_next_word(bigram,'i')"
   ]
  },
  {
   "cell_type": "code",
   "execution_count": 95,
   "id": "aa5d54d7-d79f-4beb-bbfd-9fdf98f8a901",
   "metadata": {},
   "outputs": [
    {
     "data": {
      "text/plain": [
       "'love to'"
      ]
     },
     "execution_count": 95,
     "metadata": {},
     "output_type": "execute_result"
    }
   ],
   "source": [
    "get_next_word(bigram,'love')"
   ]
  },
  {
   "cell_type": "markdown",
   "id": "79904c34-46f9-4904-a64e-0e4ab621cd45",
   "metadata": {},
   "source": [
    "### trigram smoothening"
   ]
  },
  {
   "cell_type": "code",
   "execution_count": 77,
   "id": "e6ff1488-9e9e-4669-9f56-8c1b6ee1b463",
   "metadata": {},
   "outputs": [],
   "source": [
    "def build_smoothed_trigram_model(df, alpha=1):\n",
    "    # Create a placeholder for the smoothed trigram model\n",
    "    trigram_model = defaultdict(lambda: defaultdict(lambda: alpha))\n",
    "\n",
    "    # Count frequency of co-occurrence\n",
    "    for sentence in df['text']:\n",
    "        words = sentence.split()\n",
    "        for w1, w2, w3 in zip([None, None] + words, [None] + words + [None], words + [None, None]):\n",
    "            trigram_model[(w1, w2)][w3] += 1\n",
    "\n",
    "    # Convert counts to probabilities with smoothing\n",
    "    for w1_w2 in trigram_model:\n",
    "        total_count = float(sum(trigram_model[w1_w2].values()))\n",
    "        for w3 in trigram_model[w1_w2]:\n",
    "            trigram_model[w1_w2][w3] = (trigram_model[w1_w2][w3] + alpha) / (total_count + alpha * len(trigram_model[w1_w2]))\n",
    "\n",
    "    return trigram_model\n"
   ]
  },
  {
   "cell_type": "code",
   "execution_count": 97,
   "id": "a6253a23-30db-4edd-838d-bad1954c0d2c",
   "metadata": {},
   "outputs": [],
   "source": [
    "trigram= build_smoothed_trigram_model(df)"
   ]
  },
  {
   "cell_type": "code",
   "execution_count": 105,
   "id": "4e86c213-05f1-40f8-a713-f36f77bb46e6",
   "metadata": {},
   "outputs": [
    {
     "data": {
      "text/plain": [
       "\"No prediction available for 'i love'.\""
      ]
     },
     "execution_count": 105,
     "metadata": {},
     "output_type": "execute_result"
    }
   ],
   "source": [
    "get_next_word(trigram,\"i love\")"
   ]
  },
  {
   "cell_type": "code",
   "execution_count": null,
   "id": "45325407-4144-4e36-aad8-59c4a8594c5c",
   "metadata": {},
   "outputs": [],
   "source": []
  }
 ],
 "metadata": {
  "kernelspec": {
   "display_name": "Python 3 (ipykernel)",
   "language": "python",
   "name": "python3"
  },
  "language_info": {
   "codemirror_mode": {
    "name": "ipython",
    "version": 3
   },
   "file_extension": ".py",
   "mimetype": "text/x-python",
   "name": "python",
   "nbconvert_exporter": "python",
   "pygments_lexer": "ipython3",
   "version": "3.12.2"
  }
 },
 "nbformat": 4,
 "nbformat_minor": 5
}
